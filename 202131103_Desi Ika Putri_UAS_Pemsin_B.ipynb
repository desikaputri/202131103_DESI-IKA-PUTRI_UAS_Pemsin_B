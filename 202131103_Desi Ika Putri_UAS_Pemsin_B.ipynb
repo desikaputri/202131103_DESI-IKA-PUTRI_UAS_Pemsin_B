{
 "cells": [
  {
   "cell_type": "markdown",
   "id": "562a4a42",
   "metadata": {},
   "source": [
    "# IMPORT LIBRARY"
   ]
  },
  {
   "cell_type": "code",
   "execution_count": 1,
   "id": "5eec9460",
   "metadata": {},
   "outputs": [],
   "source": [
    "import pandas as pd #mengimport library pandas dan di inisialkan dengan pd\n",
    "import numpy as np ##mengimport library numpy dan di inisialkan dengan np\n",
    "import matplotlib.pyplot as plt "
   ]
  },
  {
   "cell_type": "markdown",
   "id": "27eadefe",
   "metadata": {},
   "source": [
    "# MEMBACA DATASET GIZI"
   ]
  },
  {
   "cell_type": "code",
   "execution_count": 2,
   "id": "dde1f696",
   "metadata": {},
   "outputs": [
    {
     "data": {
      "text/html": [
       "<div>\n",
       "<style scoped>\n",
       "    .dataframe tbody tr th:only-of-type {\n",
       "        vertical-align: middle;\n",
       "    }\n",
       "\n",
       "    .dataframe tbody tr th {\n",
       "        vertical-align: top;\n",
       "    }\n",
       "\n",
       "    .dataframe thead th {\n",
       "        text-align: right;\n",
       "    }\n",
       "</style>\n",
       "<table border=\"1\" class=\"dataframe\">\n",
       "  <thead>\n",
       "    <tr style=\"text-align: right;\">\n",
       "      <th></th>\n",
       "      <th>NO</th>\n",
       "      <th>NAMA BALITA</th>\n",
       "      <th>JENIS KELAMIN</th>\n",
       "      <th>UMUR BULAN/TAHUN</th>\n",
       "      <th>Berat</th>\n",
       "      <th>Tinggi</th>\n",
       "      <th>BMI</th>\n",
       "    </tr>\n",
       "  </thead>\n",
       "  <tbody>\n",
       "    <tr>\n",
       "      <th>0</th>\n",
       "      <td>1</td>\n",
       "      <td>Adhe Fitri</td>\n",
       "      <td>P</td>\n",
       "      <td>24</td>\n",
       "      <td>5.8</td>\n",
       "      <td>0.650</td>\n",
       "      <td>13.73</td>\n",
       "    </tr>\n",
       "    <tr>\n",
       "      <th>1</th>\n",
       "      <td>2</td>\n",
       "      <td>Andi Hariati</td>\n",
       "      <td>P</td>\n",
       "      <td>24</td>\n",
       "      <td>5.5</td>\n",
       "      <td>0.590</td>\n",
       "      <td>15.80</td>\n",
       "    </tr>\n",
       "    <tr>\n",
       "      <th>2</th>\n",
       "      <td>3</td>\n",
       "      <td>Anwar Amir</td>\n",
       "      <td>L</td>\n",
       "      <td>28</td>\n",
       "      <td>6.7</td>\n",
       "      <td>0.715</td>\n",
       "      <td>13.11</td>\n",
       "    </tr>\n",
       "    <tr>\n",
       "      <th>3</th>\n",
       "      <td>4</td>\n",
       "      <td>Asmar</td>\n",
       "      <td>L</td>\n",
       "      <td>30</td>\n",
       "      <td>8.1</td>\n",
       "      <td>0.725</td>\n",
       "      <td>15.41</td>\n",
       "    </tr>\n",
       "    <tr>\n",
       "      <th>4</th>\n",
       "      <td>5</td>\n",
       "      <td>Eka Andriyani</td>\n",
       "      <td>P</td>\n",
       "      <td>28</td>\n",
       "      <td>6.9</td>\n",
       "      <td>0.730</td>\n",
       "      <td>12.95</td>\n",
       "    </tr>\n",
       "    <tr>\n",
       "      <th>...</th>\n",
       "      <td>...</td>\n",
       "      <td>...</td>\n",
       "      <td>...</td>\n",
       "      <td>...</td>\n",
       "      <td>...</td>\n",
       "      <td>...</td>\n",
       "      <td>...</td>\n",
       "    </tr>\n",
       "    <tr>\n",
       "      <th>495</th>\n",
       "      <td>496</td>\n",
       "      <td>Moza Rafasya</td>\n",
       "      <td>L</td>\n",
       "      <td>23</td>\n",
       "      <td>11.0</td>\n",
       "      <td>78.300</td>\n",
       "      <td>43.11</td>\n",
       "    </tr>\n",
       "    <tr>\n",
       "      <th>496</th>\n",
       "      <td>497</td>\n",
       "      <td>Amora Nauli</td>\n",
       "      <td>P</td>\n",
       "      <td>13</td>\n",
       "      <td>8.8</td>\n",
       "      <td>71.400</td>\n",
       "      <td>28.30</td>\n",
       "    </tr>\n",
       "    <tr>\n",
       "      <th>497</th>\n",
       "      <td>498</td>\n",
       "      <td>Arsenio</td>\n",
       "      <td>L</td>\n",
       "      <td>11</td>\n",
       "      <td>8.1</td>\n",
       "      <td>74.500</td>\n",
       "      <td>23.60</td>\n",
       "    </tr>\n",
       "    <tr>\n",
       "      <th>498</th>\n",
       "      <td>499</td>\n",
       "      <td>Shaqueena Nur</td>\n",
       "      <td>P</td>\n",
       "      <td>37</td>\n",
       "      <td>10.7</td>\n",
       "      <td>65.400</td>\n",
       "      <td>47.30</td>\n",
       "    </tr>\n",
       "    <tr>\n",
       "      <th>499</th>\n",
       "      <td>500</td>\n",
       "      <td>Alenka Ikrima</td>\n",
       "      <td>L</td>\n",
       "      <td>25</td>\n",
       "      <td>9.9</td>\n",
       "      <td>66.800</td>\n",
       "      <td>18.70</td>\n",
       "    </tr>\n",
       "  </tbody>\n",
       "</table>\n",
       "<p>500 rows × 7 columns</p>\n",
       "</div>"
      ],
      "text/plain": [
       "      NO     NAMA BALITA JENIS KELAMIN  UMUR BULAN/TAHUN  Berat  Tinggi    BMI\n",
       "0      1      Adhe Fitri             P                24    5.8   0.650  13.73\n",
       "1      2    Andi Hariati             P                24    5.5   0.590  15.80\n",
       "2      3      Anwar Amir             L                28    6.7   0.715  13.11\n",
       "3      4           Asmar             L                30    8.1   0.725  15.41\n",
       "4      5   Eka Andriyani             P                28    6.9   0.730  12.95\n",
       "..   ...             ...           ...               ...    ...     ...    ...\n",
       "495  496    Moza Rafasya             L                23   11.0  78.300  43.11\n",
       "496  497    Amora Nauli              P                13    8.8  71.400  28.30\n",
       "497  498       Arsenio               L                11    8.1  74.500  23.60\n",
       "498  499  Shaqueena Nur              P                37   10.7  65.400  47.30\n",
       "499  500  Alenka Ikrima              L                25    9.9  66.800  18.70\n",
       "\n",
       "[500 rows x 7 columns]"
      ]
     },
     "execution_count": 2,
     "metadata": {},
     "output_type": "execute_result"
    }
   ],
   "source": [
    "data = pd.read_csv('gizi.csv') #membaca dataset\n",
    "data #menampilkan dataset"
   ]
  },
  {
   "cell_type": "markdown",
   "id": "693bc137",
   "metadata": {},
   "source": [
    "# MEMILIH DATA UNTUK ATRIBUT"
   ]
  },
  {
   "cell_type": "code",
   "execution_count": 3,
   "id": "5db42764",
   "metadata": {},
   "outputs": [
    {
     "data": {
      "text/html": [
       "<div>\n",
       "<style scoped>\n",
       "    .dataframe tbody tr th:only-of-type {\n",
       "        vertical-align: middle;\n",
       "    }\n",
       "\n",
       "    .dataframe tbody tr th {\n",
       "        vertical-align: top;\n",
       "    }\n",
       "\n",
       "    .dataframe thead th {\n",
       "        text-align: right;\n",
       "    }\n",
       "</style>\n",
       "<table border=\"1\" class=\"dataframe\">\n",
       "  <thead>\n",
       "    <tr style=\"text-align: right;\">\n",
       "      <th></th>\n",
       "      <th>Berat</th>\n",
       "      <th>Tinggi</th>\n",
       "    </tr>\n",
       "  </thead>\n",
       "  <tbody>\n",
       "    <tr>\n",
       "      <th>0</th>\n",
       "      <td>5.8</td>\n",
       "      <td>0.650</td>\n",
       "    </tr>\n",
       "    <tr>\n",
       "      <th>1</th>\n",
       "      <td>5.5</td>\n",
       "      <td>0.590</td>\n",
       "    </tr>\n",
       "    <tr>\n",
       "      <th>2</th>\n",
       "      <td>6.7</td>\n",
       "      <td>0.715</td>\n",
       "    </tr>\n",
       "    <tr>\n",
       "      <th>3</th>\n",
       "      <td>8.1</td>\n",
       "      <td>0.725</td>\n",
       "    </tr>\n",
       "    <tr>\n",
       "      <th>4</th>\n",
       "      <td>6.9</td>\n",
       "      <td>0.730</td>\n",
       "    </tr>\n",
       "    <tr>\n",
       "      <th>5</th>\n",
       "      <td>5.8</td>\n",
       "      <td>0.770</td>\n",
       "    </tr>\n",
       "    <tr>\n",
       "      <th>6</th>\n",
       "      <td>4.7</td>\n",
       "      <td>0.525</td>\n",
       "    </tr>\n",
       "    <tr>\n",
       "      <th>7</th>\n",
       "      <td>6.8</td>\n",
       "      <td>0.540</td>\n",
       "    </tr>\n",
       "    <tr>\n",
       "      <th>8</th>\n",
       "      <td>3.5</td>\n",
       "      <td>0.550</td>\n",
       "    </tr>\n",
       "    <tr>\n",
       "      <th>9</th>\n",
       "      <td>5.8</td>\n",
       "      <td>0.530</td>\n",
       "    </tr>\n",
       "  </tbody>\n",
       "</table>\n",
       "</div>"
      ],
      "text/plain": [
       "   Berat  Tinggi\n",
       "0    5.8   0.650\n",
       "1    5.5   0.590\n",
       "2    6.7   0.715\n",
       "3    8.1   0.725\n",
       "4    6.9   0.730\n",
       "5    5.8   0.770\n",
       "6    4.7   0.525\n",
       "7    6.8   0.540\n",
       "8    3.5   0.550\n",
       "9    5.8   0.530"
      ]
     },
     "execution_count": 3,
     "metadata": {},
     "output_type": "execute_result"
    }
   ],
   "source": [
    "data = data[[\"Berat\",\"Tinggi\"]] #memilih kolom berat dan tinggi untuk di proses\n",
    "data.head(10) #menampilkan 10 data teratas"
   ]
  },
  {
   "cell_type": "markdown",
   "id": "c1d0108c",
   "metadata": {},
   "source": [
    "# MELIHAT RINGKASAN STATISTIK"
   ]
  },
  {
   "cell_type": "code",
   "execution_count": 4,
   "id": "2ba44fd3",
   "metadata": {},
   "outputs": [
    {
     "data": {
      "text/html": [
       "<div>\n",
       "<style scoped>\n",
       "    .dataframe tbody tr th:only-of-type {\n",
       "        vertical-align: middle;\n",
       "    }\n",
       "\n",
       "    .dataframe tbody tr th {\n",
       "        vertical-align: top;\n",
       "    }\n",
       "\n",
       "    .dataframe thead th {\n",
       "        text-align: right;\n",
       "    }\n",
       "</style>\n",
       "<table border=\"1\" class=\"dataframe\">\n",
       "  <thead>\n",
       "    <tr style=\"text-align: right;\">\n",
       "      <th></th>\n",
       "      <th>Berat</th>\n",
       "      <th>Tinggi</th>\n",
       "    </tr>\n",
       "  </thead>\n",
       "  <tbody>\n",
       "    <tr>\n",
       "      <th>count</th>\n",
       "      <td>500.000000</td>\n",
       "      <td>500.000000</td>\n",
       "    </tr>\n",
       "    <tr>\n",
       "      <th>mean</th>\n",
       "      <td>9.096200</td>\n",
       "      <td>43.028960</td>\n",
       "    </tr>\n",
       "    <tr>\n",
       "      <th>std</th>\n",
       "      <td>2.010684</td>\n",
       "      <td>38.791533</td>\n",
       "    </tr>\n",
       "    <tr>\n",
       "      <th>min</th>\n",
       "      <td>1.000000</td>\n",
       "      <td>0.490000</td>\n",
       "    </tr>\n",
       "    <tr>\n",
       "      <th>25%</th>\n",
       "      <td>7.900000</td>\n",
       "      <td>0.760000</td>\n",
       "    </tr>\n",
       "    <tr>\n",
       "      <th>50%</th>\n",
       "      <td>9.000000</td>\n",
       "      <td>66.800000</td>\n",
       "    </tr>\n",
       "    <tr>\n",
       "      <th>75%</th>\n",
       "      <td>10.000000</td>\n",
       "      <td>77.800000</td>\n",
       "    </tr>\n",
       "    <tr>\n",
       "      <th>max</th>\n",
       "      <td>15.700000</td>\n",
       "      <td>104.500000</td>\n",
       "    </tr>\n",
       "  </tbody>\n",
       "</table>\n",
       "</div>"
      ],
      "text/plain": [
       "            Berat      Tinggi\n",
       "count  500.000000  500.000000\n",
       "mean     9.096200   43.028960\n",
       "std      2.010684   38.791533\n",
       "min      1.000000    0.490000\n",
       "25%      7.900000    0.760000\n",
       "50%      9.000000   66.800000\n",
       "75%     10.000000   77.800000\n",
       "max     15.700000  104.500000"
      ]
     },
     "execution_count": 4,
     "metadata": {},
     "output_type": "execute_result"
    }
   ],
   "source": [
    "data.describe() #melihat ringkasan deskripsi data"
   ]
  },
  {
   "cell_type": "markdown",
   "id": "3d7bff3e",
   "metadata": {},
   "source": [
    "# PREPROCESSING DATA MENGGUNAKAN MINMAXSCALER"
   ]
  },
  {
   "cell_type": "code",
   "execution_count": 5,
   "id": "3e4f8000",
   "metadata": {
    "scrolled": true
   },
   "outputs": [
    {
     "data": {
      "text/html": [
       "<div>\n",
       "<style scoped>\n",
       "    .dataframe tbody tr th:only-of-type {\n",
       "        vertical-align: middle;\n",
       "    }\n",
       "\n",
       "    .dataframe tbody tr th {\n",
       "        vertical-align: top;\n",
       "    }\n",
       "\n",
       "    .dataframe thead th {\n",
       "        text-align: right;\n",
       "    }\n",
       "</style>\n",
       "<table border=\"1\" class=\"dataframe\">\n",
       "  <thead>\n",
       "    <tr style=\"text-align: right;\">\n",
       "      <th></th>\n",
       "      <th>Berat</th>\n",
       "      <th>Tinggi</th>\n",
       "    </tr>\n",
       "  </thead>\n",
       "  <tbody>\n",
       "    <tr>\n",
       "      <th>0</th>\n",
       "      <td>0.326531</td>\n",
       "      <td>0.001538</td>\n",
       "    </tr>\n",
       "    <tr>\n",
       "      <th>1</th>\n",
       "      <td>0.306122</td>\n",
       "      <td>0.000961</td>\n",
       "    </tr>\n",
       "    <tr>\n",
       "      <th>2</th>\n",
       "      <td>0.387755</td>\n",
       "      <td>0.002163</td>\n",
       "    </tr>\n",
       "    <tr>\n",
       "      <th>3</th>\n",
       "      <td>0.482993</td>\n",
       "      <td>0.002259</td>\n",
       "    </tr>\n",
       "    <tr>\n",
       "      <th>4</th>\n",
       "      <td>0.401361</td>\n",
       "      <td>0.002307</td>\n",
       "    </tr>\n",
       "    <tr>\n",
       "      <th>5</th>\n",
       "      <td>0.326531</td>\n",
       "      <td>0.002692</td>\n",
       "    </tr>\n",
       "    <tr>\n",
       "      <th>6</th>\n",
       "      <td>0.251701</td>\n",
       "      <td>0.000337</td>\n",
       "    </tr>\n",
       "    <tr>\n",
       "      <th>7</th>\n",
       "      <td>0.394558</td>\n",
       "      <td>0.000481</td>\n",
       "    </tr>\n",
       "    <tr>\n",
       "      <th>8</th>\n",
       "      <td>0.170068</td>\n",
       "      <td>0.000577</td>\n",
       "    </tr>\n",
       "    <tr>\n",
       "      <th>9</th>\n",
       "      <td>0.326531</td>\n",
       "      <td>0.000385</td>\n",
       "    </tr>\n",
       "    <tr>\n",
       "      <th>10</th>\n",
       "      <td>0.414966</td>\n",
       "      <td>0.001250</td>\n",
       "    </tr>\n",
       "    <tr>\n",
       "      <th>11</th>\n",
       "      <td>0.571429</td>\n",
       "      <td>0.001154</td>\n",
       "    </tr>\n",
       "    <tr>\n",
       "      <th>12</th>\n",
       "      <td>0.489796</td>\n",
       "      <td>0.001538</td>\n",
       "    </tr>\n",
       "    <tr>\n",
       "      <th>13</th>\n",
       "      <td>0.272109</td>\n",
       "      <td>0.001827</td>\n",
       "    </tr>\n",
       "    <tr>\n",
       "      <th>14</th>\n",
       "      <td>0.340136</td>\n",
       "      <td>0.001731</td>\n",
       "    </tr>\n",
       "  </tbody>\n",
       "</table>\n",
       "</div>"
      ],
      "text/plain": [
       "       Berat    Tinggi\n",
       "0   0.326531  0.001538\n",
       "1   0.306122  0.000961\n",
       "2   0.387755  0.002163\n",
       "3   0.482993  0.002259\n",
       "4   0.401361  0.002307\n",
       "5   0.326531  0.002692\n",
       "6   0.251701  0.000337\n",
       "7   0.394558  0.000481\n",
       "8   0.170068  0.000577\n",
       "9   0.326531  0.000385\n",
       "10  0.414966  0.001250\n",
       "11  0.571429  0.001154\n",
       "12  0.489796  0.001538\n",
       "13  0.272109  0.001827\n",
       "14  0.340136  0.001731"
      ]
     },
     "execution_count": 5,
     "metadata": {},
     "output_type": "execute_result"
    }
   ],
   "source": [
    "#melakukan normalisasi data karena rentang angkanya jauh\n",
    "from sklearn import preprocessing  #disini menggunakan MinMaxScaler agar rentang angkanya 0-1\n",
    "MM = preprocessing.MinMaxScaler().fit_transform(data)\n",
    "data = pd.DataFrame(MM, columns = data.columns) #adalah tempat data yang sudah di normalisasi\n",
    "data.head(15) #menampilkan 15 data teratas yang sudah di normalisasi"
   ]
  },
  {
   "cell_type": "markdown",
   "id": "30ee3c3c",
   "metadata": {},
   "source": [
    "# VISUALISASI PERSEBARAN DATA"
   ]
  },
  {
   "cell_type": "code",
   "execution_count": 6,
   "id": "25e47f5d",
   "metadata": {},
   "outputs": [
    {
     "data": {
      "image/png": "[encoded data removed]",
      "text/plain": [
       "<Figure size 640x480 with 1 Axes>"
      ]
     },
     "metadata": {},
     "output_type": "display_data"
    }
   ],
   "source": [
    "plt.scatter(data.Berat, data.Tinggi) \n",
    "plt.xlabel(\"Berat\") #untuk memberikan label Berat pada bagian x\n",
    "plt.ylabel(\"Tinggi\") #untuk memberikan label Tinggi pada bagian y\n",
    "plt.show() #perintah untuk menampilkan"
   ]
  },
  {
   "cell_type": "markdown",
   "id": "30211774",
   "metadata": {},
   "source": [
    "# MEMBUAT MODEL"
   ]
  },
  {
   "cell_type": "code",
   "execution_count": 7,
   "id": "3e7ca082",
   "metadata": {},
   "outputs": [
    {
     "data": {
      "text/html": [
       "<style>#sk-container-id-1 {color: black;}#sk-container-id-1 pre{padding: 0;}#sk-container-id-1 div.sk-toggleable {background-color: white;}#sk-container-id-1 label.sk-toggleable__label {cursor: pointer;display: block;width: 100%;margin-bottom: 0;padding: 0.3em;box-sizing: border-box;text-align: center;}#sk-container-id-1 label.sk-toggleable__label-arrow:before {content: \"▸\";float: left;margin-right: 0.25em;color: #696969;}#sk-container-id-1 label.sk-toggleable__label-arrow:hover:before {color: black;}#sk-container-id-1 div.sk-estimator:hover label.sk-toggleable__label-arrow:before {color: black;}#sk-container-id-1 div.sk-toggleable__content {max-height: 0;max-width: 0;overflow: hidden;text-align: left;background-color: #f0f8ff;}#sk-container-id-1 div.sk-toggleable__content pre {margin: 0.2em;color: black;border-radius: 0.25em;background-color: #f0f8ff;}#sk-container-id-1 input.sk-toggleable__control:checked~div.sk-toggleable__content {max-height: 200px;max-width: 100%;overflow: auto;}#sk-container-id-1 input.sk-toggleable__control:checked~label.sk-toggleable__label-arrow:before {content: \"▾\";}#sk-container-id-1 div.sk-estimator input.sk-toggleable__control:checked~label.sk-toggleable__label {background-color: #d4ebff;}#sk-container-id-1 div.sk-label input.sk-toggleable__control:checked~label.sk-toggleable__label {background-color: #d4ebff;}#sk-container-id-1 input.sk-hidden--visually {border: 0;clip: rect(1px 1px 1px 1px);clip: rect(1px, 1px, 1px, 1px);height: 1px;margin: -1px;overflow: hidden;padding: 0;position: absolute;width: 1px;}#sk-container-id-1 div.sk-estimator {font-family: monospace;background-color: #f0f8ff;border: 1px dotted black;border-radius: 0.25em;box-sizing: border-box;margin-bottom: 0.5em;}#sk-container-id-1 div.sk-estimator:hover {background-color: #d4ebff;}#sk-container-id-1 div.sk-parallel-item::after {content: \"\";width: 100%;border-bottom: 1px solid gray;flex-grow: 1;}#sk-container-id-1 div.sk-label:hover label.sk-toggleable__label {background-color: #d4ebff;}#sk-container-id-1 div.sk-serial::before {content: \"\";position: absolute;border-left: 1px solid gray;box-sizing: border-box;top: 0;bottom: 0;left: 50%;z-index: 0;}#sk-container-id-1 div.sk-serial {display: flex;flex-direction: column;align-items: center;background-color: white;padding-right: 0.2em;padding-left: 0.2em;position: relative;}#sk-container-id-1 div.sk-item {position: relative;z-index: 1;}#sk-container-id-1 div.sk-parallel {display: flex;align-items: stretch;justify-content: center;background-color: white;position: relative;}#sk-container-id-1 div.sk-item::before, #sk-container-id-1 div.sk-parallel-item::before {content: \"\";position: absolute;border-left: 1px solid gray;box-sizing: border-box;top: 0;bottom: 0;left: 50%;z-index: -1;}#sk-container-id-1 div.sk-parallel-item {display: flex;flex-direction: column;z-index: 1;position: relative;background-color: white;}#sk-container-id-1 div.sk-parallel-item:first-child::after {align-self: flex-end;width: 50%;}#sk-container-id-1 div.sk-parallel-item:last-child::after {align-self: flex-start;width: 50%;}#sk-container-id-1 div.sk-parallel-item:only-child::after {width: 0;}#sk-container-id-1 div.sk-dashed-wrapped {border: 1px dashed gray;margin: 0 0.4em 0.5em 0.4em;box-sizing: border-box;padding-bottom: 0.4em;background-color: white;}#sk-container-id-1 div.sk-label label {font-family: monospace;font-weight: bold;display: inline-block;line-height: 1.2em;}#sk-container-id-1 div.sk-label-container {text-align: center;}#sk-container-id-1 div.sk-container {/* jupyter's `normalize.less` sets `[hidden] { display: none; }` but bootstrap.min.css set `[hidden] { display: none !important; }` so we also need the `!important` here to be able to override the default hidden behavior on the sphinx rendered scikit-learn.org. See: https://github.com/scikit-learn/scikit-learn/issues/21755 */display: inline-block !important;position: relative;}#sk-container-id-1 div.sk-text-repr-fallback {display: none;}</style><div id=\"sk-container-id-1\" class=\"sk-top-container\"><div class=\"sk-text-repr-fallback\"><pre>KMeans(n_clusters=3, n_init=&#x27;auto&#x27;, random_state=0)</pre><b>In a Jupyter environment, please rerun this cell to show the HTML representation or trust the notebook. <br />On GitHub, the HTML representation is unable to render, please try loading this page with nbviewer.org.</b></div><div class=\"sk-container\" hidden><div class=\"sk-item\"><div class=\"sk-estimator sk-toggleable\"><input class=\"sk-toggleable__control sk-hidden--visually\" id=\"sk-estimator-id-1\" type=\"checkbox\" checked><label for=\"sk-estimator-id-1\" class=\"sk-toggleable__label sk-toggleable__label-arrow\">KMeans</label><div class=\"sk-toggleable__content\"><pre>KMeans(n_clusters=3, n_init=&#x27;auto&#x27;, random_state=0)</pre></div></div></div></div></div>"
      ],
      "text/plain": [
       "KMeans(n_clusters=3, n_init='auto', random_state=0)"
      ]
     },
     "execution_count": 7,
     "metadata": {},
     "output_type": "execute_result"
    }
   ],
   "source": [
    "from sklearn.cluster import KMeans\n",
    "kmeans = KMeans (n_clusters = 3, random_state = 0, n_init = 'auto') #disini menggunakan 3 cluster, randomstate ini supaya model kita saat mengenerate memilih centroid secara random dan tidal terjebak di local minimum\n",
    "kmeans.fit(data) #proses pengclusteran"
   ]
  },
  {
   "cell_type": "markdown",
   "id": "a4e5be21",
   "metadata": {},
   "source": [
    "# MELIHAT CLUSTER PUSAT"
   ]
  },
  {
   "cell_type": "code",
   "execution_count": 8,
   "id": "aaf5d58a",
   "metadata": {},
   "outputs": [
    {
     "data": {
      "text/plain": [
       "array([[0.50912642, 0.71480275],\n",
       "       [0.53249514, 0.00259762],\n",
       "       [0.71970951, 0.80435873]])"
      ]
     },
     "execution_count": 8,
     "metadata": {},
     "output_type": "execute_result"
    }
   ],
   "source": [
    "kmeans.cluster_centers_ #untuk melihat cluster pusat dari ke3 cluster"
   ]
  },
  {
   "cell_type": "code",
   "execution_count": 9,
   "id": "a9c79a9a",
   "metadata": {},
   "outputs": [
    {
     "data": {
      "text/plain": [
       "array([1, 1, 1, 1, 1, 1, 1, 1, 1, 1, 1, 1, 1, 1, 1, 1, 1, 1, 1, 1, 1, 1,\n",
       "       1, 1, 1, 1, 1, 1, 1, 1, 1, 1, 1, 1, 1, 1, 1, 1, 1, 1, 1, 1, 1, 1,\n",
       "       1, 1, 1, 1, 1, 1, 1, 1, 1, 1, 1, 1, 1, 1, 1, 1, 1, 1, 1, 1, 1, 1,\n",
       "       1, 1, 1, 1, 1, 1, 1, 1, 1, 1, 1, 1, 1, 1, 1, 1, 1, 1, 1, 1, 1, 1,\n",
       "       1, 1, 1, 1, 1, 1, 1, 1, 1, 1, 1, 1, 1, 1, 1, 1, 1, 1, 1, 1, 1, 1,\n",
       "       1, 1, 1, 1, 1, 1, 1, 1, 1, 1, 1, 1, 1, 1, 1, 1, 1, 1, 1, 1, 1, 1,\n",
       "       1, 1, 1, 1, 1, 1, 1, 1, 1, 1, 1, 1, 1, 1, 1, 1, 1, 1, 1, 1, 1, 1,\n",
       "       1, 1, 1, 1, 1, 1, 1, 1, 1, 1, 1, 1, 1, 1, 1, 1, 1, 1, 1, 1, 1, 1,\n",
       "       1, 1, 1, 1, 1, 1, 1, 1, 1, 1, 1, 1, 1, 1, 1, 1, 1, 1, 1, 1, 1, 1,\n",
       "       1, 1, 0, 0, 0, 0, 2, 2, 2, 0, 0, 0, 2, 2, 2, 0, 2, 2, 2, 2, 0, 1,\n",
       "       2, 2, 2, 2, 2, 2, 0, 2, 2, 2, 0, 0, 0, 2, 0, 0, 0, 0, 2, 0, 0, 0,\n",
       "       0, 0, 0, 2, 2, 0, 0, 0, 2, 0, 0, 0, 0, 2, 0, 0, 2, 0, 2, 2, 2, 2,\n",
       "       2, 0, 2, 2, 0, 0, 0, 0, 2, 2, 0, 0, 0, 0, 0, 0, 0, 0, 0, 0, 0, 0,\n",
       "       0, 2, 0, 0, 2, 0, 2, 2, 0, 0, 2, 0, 0, 0, 0, 0, 0, 0, 2, 0, 0, 0,\n",
       "       0, 0, 0, 0, 0, 0, 0, 0, 0, 0, 2, 0, 2, 0, 0, 2, 2, 0, 0, 0, 0, 0,\n",
       "       0, 0, 0, 2, 0, 0, 0, 0, 0, 0, 0, 0, 0, 0, 0, 0, 2, 0, 0, 0, 0, 0,\n",
       "       0, 0, 0, 0, 0, 0, 2, 2, 0, 0, 0, 0, 2, 0, 0, 0, 2, 0, 0, 0, 0, 2,\n",
       "       0, 0, 0, 0, 2, 0, 0, 0, 0, 0, 0, 0, 0, 0, 2, 0, 2, 0, 0, 0, 0, 0,\n",
       "       0, 2, 2, 2, 0, 0, 0, 2, 0, 0, 0, 0, 0, 0, 0, 0, 0, 0, 0, 0, 0, 0,\n",
       "       2, 0, 0, 2, 0, 0, 0, 0, 0, 0, 2, 2, 0, 0, 2, 0, 0, 0, 0, 0, 2, 0,\n",
       "       0, 2, 2, 0, 0, 2, 1, 1, 1, 1, 1, 1, 1, 1, 1, 1, 1, 1, 0, 2, 0, 0,\n",
       "       0, 0, 0, 0, 0, 0, 0, 0, 1, 1, 1, 1, 1, 1, 1, 1, 1, 1, 1, 0, 0, 2,\n",
       "       0, 2, 2, 2, 2, 0, 0, 0, 0, 0, 0, 2, 0, 0, 0, 0])"
      ]
     },
     "execution_count": 9,
     "metadata": {},
     "output_type": "execute_result"
    }
   ],
   "source": [
    "kmeans.labels_ #Hasil dari pengclusteran di atas menghasilkan labels"
   ]
  },
  {
   "cell_type": "code",
   "execution_count": 10,
   "id": "cc15d0f1",
   "metadata": {},
   "outputs": [
    {
     "data": {
      "text/html": [
       "<div>\n",
       "<style scoped>\n",
       "    .dataframe tbody tr th:only-of-type {\n",
       "        vertical-align: middle;\n",
       "    }\n",
       "\n",
       "    .dataframe tbody tr th {\n",
       "        vertical-align: top;\n",
       "    }\n",
       "\n",
       "    .dataframe thead th {\n",
       "        text-align: right;\n",
       "    }\n",
       "</style>\n",
       "<table border=\"1\" class=\"dataframe\">\n",
       "  <thead>\n",
       "    <tr style=\"text-align: right;\">\n",
       "      <th></th>\n",
       "      <th>Berat</th>\n",
       "      <th>Tinggi</th>\n",
       "      <th>cluster</th>\n",
       "    </tr>\n",
       "  </thead>\n",
       "  <tbody>\n",
       "    <tr>\n",
       "      <th>0</th>\n",
       "      <td>0.326531</td>\n",
       "      <td>0.001538</td>\n",
       "      <td>1</td>\n",
       "    </tr>\n",
       "    <tr>\n",
       "      <th>1</th>\n",
       "      <td>0.306122</td>\n",
       "      <td>0.000961</td>\n",
       "      <td>1</td>\n",
       "    </tr>\n",
       "    <tr>\n",
       "      <th>2</th>\n",
       "      <td>0.387755</td>\n",
       "      <td>0.002163</td>\n",
       "      <td>1</td>\n",
       "    </tr>\n",
       "    <tr>\n",
       "      <th>3</th>\n",
       "      <td>0.482993</td>\n",
       "      <td>0.002259</td>\n",
       "      <td>1</td>\n",
       "    </tr>\n",
       "    <tr>\n",
       "      <th>4</th>\n",
       "      <td>0.401361</td>\n",
       "      <td>0.002307</td>\n",
       "      <td>1</td>\n",
       "    </tr>\n",
       "    <tr>\n",
       "      <th>...</th>\n",
       "      <td>...</td>\n",
       "      <td>...</td>\n",
       "      <td>...</td>\n",
       "    </tr>\n",
       "    <tr>\n",
       "      <th>495</th>\n",
       "      <td>0.680272</td>\n",
       "      <td>0.748101</td>\n",
       "      <td>2</td>\n",
       "    </tr>\n",
       "    <tr>\n",
       "      <th>496</th>\n",
       "      <td>0.530612</td>\n",
       "      <td>0.681761</td>\n",
       "      <td>0</td>\n",
       "    </tr>\n",
       "    <tr>\n",
       "      <th>497</th>\n",
       "      <td>0.482993</td>\n",
       "      <td>0.711566</td>\n",
       "      <td>0</td>\n",
       "    </tr>\n",
       "    <tr>\n",
       "      <th>498</th>\n",
       "      <td>0.659864</td>\n",
       "      <td>0.624075</td>\n",
       "      <td>0</td>\n",
       "    </tr>\n",
       "    <tr>\n",
       "      <th>499</th>\n",
       "      <td>0.605442</td>\n",
       "      <td>0.637535</td>\n",
       "      <td>0</td>\n",
       "    </tr>\n",
       "  </tbody>\n",
       "</table>\n",
       "<p>500 rows × 3 columns</p>\n",
       "</div>"
      ],
      "text/plain": [
       "        Berat    Tinggi  cluster\n",
       "0    0.326531  0.001538        1\n",
       "1    0.306122  0.000961        1\n",
       "2    0.387755  0.002163        1\n",
       "3    0.482993  0.002259        1\n",
       "4    0.401361  0.002307        1\n",
       "..        ...       ...      ...\n",
       "495  0.680272  0.748101        2\n",
       "496  0.530612  0.681761        0\n",
       "497  0.482993  0.711566        0\n",
       "498  0.659864  0.624075        0\n",
       "499  0.605442  0.637535        0\n",
       "\n",
       "[500 rows x 3 columns]"
      ]
     },
     "execution_count": 10,
     "metadata": {},
     "output_type": "execute_result"
    }
   ],
   "source": [
    "data['cluster'] = kmeans.labels_ #untuk menambahkan kolom cluster dan menampilkan hasil clusteringnya\n",
    "data #menampilkan data keseluruhan"
   ]
  },
  {
   "cell_type": "code",
   "execution_count": 11,
   "id": "d343c62f",
   "metadata": {},
   "outputs": [
    {
     "data": {
      "text/html": [
       "<div>\n",
       "<style scoped>\n",
       "    .dataframe tbody tr th:only-of-type {\n",
       "        vertical-align: middle;\n",
       "    }\n",
       "\n",
       "    .dataframe tbody tr th {\n",
       "        vertical-align: top;\n",
       "    }\n",
       "\n",
       "    .dataframe thead th {\n",
       "        text-align: right;\n",
       "    }\n",
       "</style>\n",
       "<table border=\"1\" class=\"dataframe\">\n",
       "  <thead>\n",
       "    <tr style=\"text-align: right;\">\n",
       "      <th></th>\n",
       "      <th>Berat</th>\n",
       "      <th>Tinggi</th>\n",
       "      <th>cluster</th>\n",
       "    </tr>\n",
       "  </thead>\n",
       "  <tbody>\n",
       "    <tr>\n",
       "      <th>0</th>\n",
       "      <td>0.326531</td>\n",
       "      <td>0.001538</td>\n",
       "      <td>1</td>\n",
       "    </tr>\n",
       "    <tr>\n",
       "      <th>1</th>\n",
       "      <td>0.306122</td>\n",
       "      <td>0.000961</td>\n",
       "      <td>1</td>\n",
       "    </tr>\n",
       "    <tr>\n",
       "      <th>2</th>\n",
       "      <td>0.387755</td>\n",
       "      <td>0.002163</td>\n",
       "      <td>1</td>\n",
       "    </tr>\n",
       "    <tr>\n",
       "      <th>3</th>\n",
       "      <td>0.482993</td>\n",
       "      <td>0.002259</td>\n",
       "      <td>1</td>\n",
       "    </tr>\n",
       "    <tr>\n",
       "      <th>4</th>\n",
       "      <td>0.401361</td>\n",
       "      <td>0.002307</td>\n",
       "      <td>1</td>\n",
       "    </tr>\n",
       "    <tr>\n",
       "      <th>5</th>\n",
       "      <td>0.326531</td>\n",
       "      <td>0.002692</td>\n",
       "      <td>1</td>\n",
       "    </tr>\n",
       "    <tr>\n",
       "      <th>6</th>\n",
       "      <td>0.251701</td>\n",
       "      <td>0.000337</td>\n",
       "      <td>1</td>\n",
       "    </tr>\n",
       "    <tr>\n",
       "      <th>7</th>\n",
       "      <td>0.394558</td>\n",
       "      <td>0.000481</td>\n",
       "      <td>1</td>\n",
       "    </tr>\n",
       "    <tr>\n",
       "      <th>8</th>\n",
       "      <td>0.170068</td>\n",
       "      <td>0.000577</td>\n",
       "      <td>1</td>\n",
       "    </tr>\n",
       "    <tr>\n",
       "      <th>9</th>\n",
       "      <td>0.326531</td>\n",
       "      <td>0.000385</td>\n",
       "      <td>1</td>\n",
       "    </tr>\n",
       "  </tbody>\n",
       "</table>\n",
       "</div>"
      ],
      "text/plain": [
       "      Berat    Tinggi  cluster\n",
       "0  0.326531  0.001538        1\n",
       "1  0.306122  0.000961        1\n",
       "2  0.387755  0.002163        1\n",
       "3  0.482993  0.002259        1\n",
       "4  0.401361  0.002307        1\n",
       "5  0.326531  0.002692        1\n",
       "6  0.251701  0.000337        1\n",
       "7  0.394558  0.000481        1\n",
       "8  0.170068  0.000577        1\n",
       "9  0.326531  0.000385        1"
      ]
     },
     "execution_count": 11,
     "metadata": {},
     "output_type": "execute_result"
    }
   ],
   "source": [
    "data.head(10) #menampilkan 10 data teratas sesudah clustering"
   ]
  },
  {
   "cell_type": "code",
   "execution_count": 12,
   "id": "8bfbd569",
   "metadata": {},
   "outputs": [
    {
     "data": {
      "text/html": [
       "<div>\n",
       "<style scoped>\n",
       "    .dataframe tbody tr th:only-of-type {\n",
       "        vertical-align: middle;\n",
       "    }\n",
       "\n",
       "    .dataframe tbody tr th {\n",
       "        vertical-align: top;\n",
       "    }\n",
       "\n",
       "    .dataframe thead th {\n",
       "        text-align: right;\n",
       "    }\n",
       "</style>\n",
       "<table border=\"1\" class=\"dataframe\">\n",
       "  <thead>\n",
       "    <tr style=\"text-align: right;\">\n",
       "      <th></th>\n",
       "      <th>Berat</th>\n",
       "      <th>Tinggi</th>\n",
       "      <th>cluster</th>\n",
       "    </tr>\n",
       "  </thead>\n",
       "  <tbody>\n",
       "    <tr>\n",
       "      <th>490</th>\n",
       "      <td>0.639456</td>\n",
       "      <td>0.576964</td>\n",
       "      <td>0</td>\n",
       "    </tr>\n",
       "    <tr>\n",
       "      <th>491</th>\n",
       "      <td>0.510204</td>\n",
       "      <td>0.677916</td>\n",
       "      <td>0</td>\n",
       "    </tr>\n",
       "    <tr>\n",
       "      <th>492</th>\n",
       "      <td>0.496599</td>\n",
       "      <td>0.653879</td>\n",
       "      <td>0</td>\n",
       "    </tr>\n",
       "    <tr>\n",
       "      <th>493</th>\n",
       "      <td>0.462585</td>\n",
       "      <td>0.647149</td>\n",
       "      <td>0</td>\n",
       "    </tr>\n",
       "    <tr>\n",
       "      <th>494</th>\n",
       "      <td>0.598639</td>\n",
       "      <td>0.643304</td>\n",
       "      <td>0</td>\n",
       "    </tr>\n",
       "    <tr>\n",
       "      <th>495</th>\n",
       "      <td>0.680272</td>\n",
       "      <td>0.748101</td>\n",
       "      <td>2</td>\n",
       "    </tr>\n",
       "    <tr>\n",
       "      <th>496</th>\n",
       "      <td>0.530612</td>\n",
       "      <td>0.681761</td>\n",
       "      <td>0</td>\n",
       "    </tr>\n",
       "    <tr>\n",
       "      <th>497</th>\n",
       "      <td>0.482993</td>\n",
       "      <td>0.711566</td>\n",
       "      <td>0</td>\n",
       "    </tr>\n",
       "    <tr>\n",
       "      <th>498</th>\n",
       "      <td>0.659864</td>\n",
       "      <td>0.624075</td>\n",
       "      <td>0</td>\n",
       "    </tr>\n",
       "    <tr>\n",
       "      <th>499</th>\n",
       "      <td>0.605442</td>\n",
       "      <td>0.637535</td>\n",
       "      <td>0</td>\n",
       "    </tr>\n",
       "  </tbody>\n",
       "</table>\n",
       "</div>"
      ],
      "text/plain": [
       "        Berat    Tinggi  cluster\n",
       "490  0.639456  0.576964        0\n",
       "491  0.510204  0.677916        0\n",
       "492  0.496599  0.653879        0\n",
       "493  0.462585  0.647149        0\n",
       "494  0.598639  0.643304        0\n",
       "495  0.680272  0.748101        2\n",
       "496  0.530612  0.681761        0\n",
       "497  0.482993  0.711566        0\n",
       "498  0.659864  0.624075        0\n",
       "499  0.605442  0.637535        0"
      ]
     },
     "execution_count": 12,
     "metadata": {},
     "output_type": "execute_result"
    }
   ],
   "source": [
    "data.tail(10) #menampilkan 10 data terakhir sesudah clustering"
   ]
  },
  {
   "cell_type": "code",
   "execution_count": 13,
   "id": "49285f01",
   "metadata": {},
   "outputs": [
    {
     "data": {
      "text/plain": [
       "cluster\n",
       "1    224\n",
       "0    201\n",
       "2     75\n",
       "Name: count, dtype: int64"
      ]
     },
     "execution_count": 13,
     "metadata": {},
     "output_type": "execute_result"
    }
   ],
   "source": [
    "data['cluster'].value_counts() #untuk melihat sebaran data pada kolom cluster"
   ]
  },
  {
   "cell_type": "code",
   "execution_count": 14,
   "id": "747fb322",
   "metadata": {},
   "outputs": [
    {
     "data": {
      "text/plain": [
       "<matplotlib.collections.PathCollection at 0x27f4107f850>"
      ]
     },
     "execution_count": 14,
     "metadata": {},
     "output_type": "execute_result"
    },
    {
     "data": {
      "image/png": "[encoded data removed]",
      "text/plain": [
       "<Figure size 640x480 with 1 Axes>"
      ]
     },
     "metadata": {},
     "output_type": "display_data"
    }
   ],
   "source": [
    "x_ = data['Berat'] #mengambbil data Berat yang diinisialisasikan dengan x_\n",
    "y_ = data['Tinggi'] #mengambbil data Tinggi yang diinisialisasikan dengan y_\n",
    "label = data['cluster'] ##mengambbil data Cluster yang diinisialisasikan dengan label\n",
    "plt.title(\"KMEANS Clustering Status Gizi\") #memberikan title KMEANS Clustering Status Gizi\n",
    "plt.xlabel(\"Berat\") #untuk memberikan label Berat pada sumbu x\n",
    "plt.ylabel(\"Tinggi\") #untuk memberikan label Tinggi pada sumbu y\n",
    "plt.scatter(x_, y_, c = label, cmap='plasma') #membuat scatter plot dimana titik-titik data ditempatkan berdasarkan nilai x_ dan y_, dan diwarnai berdasarkan cluster dengan menggunakan colormap 'plasma'"
   ]
  },
  {
   "cell_type": "markdown",
   "id": "2a80a223",
   "metadata": {},
   "source": [
    "# Cek sum of square error dari tiap pembagian jumlah cluster"
   ]
  },
  {
   "cell_type": "code",
   "execution_count": 15,
   "id": "632848fa",
   "metadata": {},
   "outputs": [
    {
     "name": "stdout",
     "output_type": "stream",
     "text": [
      "1 322.99419625158987\n",
      "2 168.4775460053895\n",
      "3 8.755407588272409\n",
      "4 6.062917251804779\n",
      "5 5.515368744357818\n",
      "6 4.3056393116265985\n",
      "7 3.4397603034268833\n",
      "8 3.0144685128260273\n",
      "9 2.5204205427840334\n"
     ]
    }
   ],
   "source": [
    "#evaluasi 1\n",
    "#sum of squared errors\n",
    "\n",
    "sse = [] #Menyimpan sse ke dalam array\n",
    "index = range(1,10) #membuat perulangan  dari 1 sampai 10\n",
    "for i in index : #melakukan clustering dari 1 sampai 10\n",
    "    kmeans = KMeans(n_clusters = i, random_state = 0, n_init='auto') \n",
    "    kmeans.fit(data)\n",
    "    sse_ = kmeans.inertia_ \n",
    "    sse.append(sse_)\n",
    "    print (i,sse_)\n",
    "    \n",
    "    #bisa di lihat mulai dari 3 kebawah errornya semakin kecil"
   ]
  },
  {
   "cell_type": "code",
   "execution_count": 16,
   "id": "5a7acaeb",
   "metadata": {},
   "outputs": [
    {
     "data": {
      "image/png": "[encoded data removed]",
      "text/plain": [
       "<Figure size 640x480 with 1 Axes>"
      ]
     },
     "metadata": {},
     "output_type": "display_data"
    }
   ],
   "source": [
    "plt.plot(index, sse) #membuat visualisasi yang membantu penentuan jumlah cluster optimal\n",
    "plt.xlabel('Clusters') #untuk memberikan label Clusters pada sumbu x\n",
    "plt.ylabel('SSE') ##untuk memberikan label SSE pada sumbu Y\n",
    "plt.show() #perintah untuk menampilkan gambar"
   ]
  },
  {
   "cell_type": "markdown",
   "id": "00bb965c",
   "metadata": {},
   "source": [
    "# EVALUASI MODEL"
   ]
  },
  {
   "cell_type": "code",
   "execution_count": 17,
   "id": "266900af",
   "metadata": {
    "scrolled": true
   },
   "outputs": [
    {
     "data": {
      "text/plain": [
       "0.7647431106675374"
      ]
     },
     "execution_count": 17,
     "metadata": {},
     "output_type": "execute_result"
    }
   ],
   "source": [
    "from sklearn.metrics import davies_bouldin_score\n",
    "labels = kmeans.labels_\n",
    "davies_bouldin_score(data, labels)"
   ]
  },
  {
   "cell_type": "markdown",
   "id": "98abf325",
   "metadata": {},
   "source": [
    "# IMPORT DATASET YG SUDAH DI NORMALISASI KE EXCEL"
   ]
  },
  {
   "cell_type": "code",
   "execution_count": 18,
   "id": "a3373fc2",
   "metadata": {},
   "outputs": [
    {
     "data": {
      "text/plain": [
       "'C:\\\\Users\\\\USER\\\\Documents\\\\DESI\\\\SMSTR_5\\\\ML'"
      ]
     },
     "execution_count": 18,
     "metadata": {},
     "output_type": "execute_result"
    }
   ],
   "source": [
    "pwd"
   ]
  },
  {
   "cell_type": "code",
   "execution_count": 19,
   "id": "34587bd3",
   "metadata": {},
   "outputs": [],
   "source": [
    "data.to_excel('datagizi.xlsx' , index=False, sheet_name='aye1')"
   ]
  },
  {
   "cell_type": "code",
   "execution_count": 20,
   "id": "d992ed26",
   "metadata": {},
   "outputs": [],
   "source": [
    "#untuk membuat perhitungan manualnya import file yg sudah dinormalisasi pd excel"
   ]
  }
 ],
 "metadata": {
  "kernelspec": {
   "display_name": "Python 3 (ipykernel)",
   "language": "python",
   "name": "python3"
  },
  "language_info": {
   "codemirror_mode": {
    "name": "ipython",
    "version": 3
   },
   "file_extension": ".py",
   "mimetype": "text/x-python",
   "name": "python",
   "nbconvert_exporter": "python",
   "pygments_lexer": "ipython3",
   "version": "3.11.5"
  }
 },
 "nbformat": 4,
 "nbformat_minor": 5
}
